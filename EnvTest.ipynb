{
  "nbformat": 4,
  "nbformat_minor": 0,
  "metadata": {
    "colab": {
      "name": "EnvTest.ipynb",
      "provenance": [],
      "toc_visible": true,
      "authorship_tag": "ABX9TyPTqDPeCmpch5XnV45v6bLK"
    },
    "kernelspec": {
      "name": "python3",
      "display_name": "Python 3"
    }
  },
  "cells": [
    {
      "cell_type": "markdown",
      "metadata": {
        "id": "nJZ4otNTWe2i",
        "colab_type": "text"
      },
      "source": [
        "# EnvTest.ipynb\n",
        "\n",
        "This notebook tests the Python implementation of Tichu."
      ]
    },
    {
      "cell_type": "markdown",
      "metadata": {
        "id": "f2gRFouYXPRZ",
        "colab_type": "text"
      },
      "source": [
        "# Setup"
      ]
    },
    {
      "cell_type": "code",
      "metadata": {
        "id": "EPJL8KQFXDD_",
        "colab_type": "code",
        "colab": {}
      },
      "source": [
        "# Execute after restarting runtime\n",
        "!git clone https://github.com/alxwdm/tichuagent"
      ],
      "execution_count": null,
      "outputs": []
    },
    {
      "cell_type": "code",
      "metadata": {
        "id": "L4CBp1WIXOT5",
        "colab_type": "code",
        "colab": {}
      },
      "source": [
        "# Execute when content on github changed\n",
        "%cd /content/tichuagent\n",
        "!git pull\n",
        "%cd /content/"
      ],
      "execution_count": null,
      "outputs": []
    },
    {
      "cell_type": "code",
      "metadata": {
        "id": "JaFgsU18Xnm0",
        "colab_type": "code",
        "colab": {}
      },
      "source": [
        "import sys\n",
        "import numpy as np\n",
        "sys.path.append('/content/tichuagent')\n",
        "from env.Card import Card\n",
        "from env.Cards import Cards\n",
        "from env.Deck import Deck\n",
        "from env.Stack import Stack\n",
        "from env.Player import Player\n",
        "from env.Game import Game\n",
        "from env.Env import Env\n",
        "from run_tests import play_dumb_game"
      ],
      "execution_count": 4,
      "outputs": []
    },
    {
      "cell_type": "markdown",
      "metadata": {
        "id": "jAvn0YRQWoMP",
        "colab_type": "text"
      },
      "source": [
        "# Run tests of Tichu implementation via script\n",
        "\n",
        "Runs all class tests via run_tests.py. Also, plays 1000 random games to look for bugs that were not explicitly tested before."
      ]
    },
    {
      "cell_type": "code",
      "metadata": {
        "id": "dRhKzJfZUDdG",
        "colab_type": "code",
        "colab": {
          "base_uri": "https://localhost:8080/",
          "height": 221
        },
        "outputId": "258a7d7a-001f-4035-ec95-fb0862785dce"
      },
      "source": [
        "%%bash\n",
        "cd tichuagent\n",
        "python run_tests.py"
      ],
      "execution_count": 5,
      "outputs": [
        {
          "output_type": "stream",
          "text": [
            "Running tests for class Card ...\n",
            "done!\n",
            "Running tests for class Cards ...\n",
            "done!\n",
            "Running tests for class Deck ...\n",
            "done!\n",
            "Running tests for class Stack ...\n",
            "done!\n",
            "Running tests for class Player ...\n",
            "done!\n",
            "Running tests for class Game with 1000 random games ...\n",
            "done!\n"
          ],
          "name": "stdout"
        }
      ]
    },
    {
      "cell_type": "markdown",
      "metadata": {
        "id": "j7iRoARL2aps",
        "colab_type": "text"
      },
      "source": [
        "# Play a random game with output"
      ]
    },
    {
      "cell_type": "code",
      "metadata": {
        "id": "BjRjHmLuq3BW",
        "colab_type": "code",
        "colab": {
          "base_uri": "https://localhost:8080/",
          "height": 1000
        },
        "outputId": "cc6069e2-5438-473e-cc99-8b7aa79ab61d"
      },
      "source": [
        "play_dumb_game()"
      ],
      "execution_count": 6,
      "outputs": [
        {
          "output_type": "stream",
          "text": [
            "Player 0 hand is:\n",
            "┍┄┄┄┑┍┄┄┄┑┍┄┄┄┑┍┄┄┄┑┍┄┄┄┑┍┄┄┄┑┍┄┄┄┑┍┄┄┄┑┍┄┄┄┑┍┄┄┄┑┍┄┄┄┑┍┄┄┄┑┍┄┄┄┑┍┄┄┄┑\n",
            "┆     ┆┆ 2   ┆┆ 3   ┆┆ 4   ┆┆ 5   ┆┆ 8   ┆┆ 8   ┆┆ 9   ┆┆10   ┆┆10   ┆┆10   ┆┆ J   ┆┆ A   ┆┆ Dr  ┆\n",
            "┆  1  ┆┆  ♣  ┆┆  ♠  ┆┆  ♠  ┆┆  ♠  ┆┆  ♠  ┆┆  ♣  ┆┆  ♣  ┆┆  ♡  ┆┆  ♣  ┆┆  ♠  ┆┆  ♢  ┆┆  ♣  ┆┆ ag  ┆\n",
            "┆     ┆┆   2 ┆┆   3 ┆┆   4 ┆┆   5 ┆┆   8 ┆┆   8 ┆┆   9 ┆┆   10┆┆   10┆┆   10┆┆   J ┆┆   A ┆┆ on  ┆\n",
            "┖┄┄┄┚┖┄┄┄┚┖┄┄┄┚┖┄┄┄┚┖┄┄┄┚┖┄┄┄┚┖┄┄┄┚┖┄┄┄┚┖┄┄┄┚┖┄┄┄┚┖┄┄┄┚┖┄┄┄┚┖┄┄┄┚┖┄┄┄┚\n",
            "Player 1 hand is:\n",
            "┍┄┄┄┑┍┄┄┄┑┍┄┄┄┑┍┄┄┄┑┍┄┄┄┑┍┄┄┄┑┍┄┄┄┑┍┄┄┄┑┍┄┄┄┑┍┄┄┄┑┍┄┄┄┑┍┄┄┄┑┍┄┄┄┑┍┄┄┄┑\n",
            "┆ Ph  ┆┆ 3   ┆┆ 3   ┆┆ 5   ┆┆ 7   ┆┆ 8   ┆┆ 9   ┆┆ 9   ┆┆10   ┆┆ J   ┆┆ Q   ┆┆ K   ┆┆ K   ┆┆ A   ┆\n",
            "┆ oe  ┆┆  ♢  ┆┆  ♣  ┆┆  ♡  ┆┆  ♣  ┆┆  ♢  ┆┆  ♢  ┆┆  ♠  ┆┆  ♢  ┆┆  ♠  ┆┆  ♠  ┆┆  ♣  ┆┆  ♢  ┆┆  ♡  ┆\n",
            "┆ nix ┆┆   3 ┆┆   3 ┆┆   5 ┆┆   7 ┆┆   8 ┆┆   9 ┆┆   9 ┆┆   10┆┆   J ┆┆   Q ┆┆   K ┆┆   K ┆┆   A ┆\n",
            "┖┄┄┄┚┖┄┄┄┚┖┄┄┄┚┖┄┄┄┚┖┄┄┄┚┖┄┄┄┚┖┄┄┄┚┖┄┄┄┚┖┄┄┄┚┖┄┄┄┚┖┄┄┄┚┖┄┄┄┚┖┄┄┄┚┖┄┄┄┚\n",
            "Player 2 hand is:\n",
            "┍┄┄┄┑┍┄┄┄┑┍┄┄┄┑┍┄┄┄┑┍┄┄┄┑┍┄┄┄┑┍┄┄┄┑┍┄┄┄┑┍┄┄┄┑┍┄┄┄┑┍┄┄┄┑┍┄┄┄┑┍┄┄┄┑┍┄┄┄┑\n",
            "┆ 2   ┆┆ 2   ┆┆ 3   ┆┆ 4   ┆┆ 4   ┆┆ 4   ┆┆ 5   ┆┆ 6   ┆┆ 6   ┆┆ 7   ┆┆ 7   ┆┆ 9   ┆┆ J   ┆┆ Q   ┆\n",
            "┆  ♡  ┆┆  ♢  ┆┆  ♡  ┆┆  ♢  ┆┆  ♣  ┆┆  ♡  ┆┆  ♢  ┆┆  ♢  ┆┆  ♠  ┆┆  ♢  ┆┆  ♡  ┆┆  ♡  ┆┆  ♣  ┆┆  ♣  ┆\n",
            "┆   2 ┆┆   2 ┆┆   3 ┆┆   4 ┆┆   4 ┆┆   4 ┆┆   5 ┆┆   6 ┆┆   6 ┆┆   7 ┆┆   7 ┆┆   9 ┆┆   J ┆┆   Q ┆\n",
            "┖┄┄┄┚┖┄┄┄┚┖┄┄┄┚┖┄┄┄┚┖┄┄┄┚┖┄┄┄┚┖┄┄┄┚┖┄┄┄┚┖┄┄┄┚┖┄┄┄┚┖┄┄┄┚┖┄┄┄┚┖┄┄┄┚┖┄┄┄┚\n",
            "Player 3 hand is:\n",
            "┍┄┄┄┑┍┄┄┄┑┍┄┄┄┑┍┄┄┄┑┍┄┄┄┑┍┄┄┄┑┍┄┄┄┑┍┄┄┄┑┍┄┄┄┑┍┄┄┄┑┍┄┄┄┑┍┄┄┄┑┍┄┄┄┑┍┄┄┄┑\n",
            "┆     ┆┆ 2   ┆┆ 5   ┆┆ 6   ┆┆ 6   ┆┆ 7   ┆┆ 8   ┆┆ J   ┆┆ Q   ┆┆ Q   ┆┆ K   ┆┆ K   ┆┆ A   ┆┆ A   ┆\n",
            "┆ Dog ┆┆  ♠  ┆┆  ♣  ┆┆  ♣  ┆┆  ♡  ┆┆  ♠  ┆┆  ♡  ┆┆  ♡  ┆┆  ♡  ┆┆  ♢  ┆┆  ♡  ┆┆  ♠  ┆┆  ♢  ┆┆  ♠  ┆\n",
            "┆     ┆┆   2 ┆┆   5 ┆┆   6 ┆┆   6 ┆┆   7 ┆┆   8 ┆┆   J ┆┆   Q ┆┆   Q ┆┆   K ┆┆   K ┆┆   A ┆┆   A ┆\n",
            "┖┄┄┄┚┖┄┄┄┚┖┄┄┄┚┖┄┄┄┚┖┄┄┄┚┖┄┄┄┚┖┄┄┄┚┖┄┄┄┚┖┄┄┄┚┖┄┄┄┚┖┄┄┄┚┖┄┄┄┚┖┄┄┄┚┖┄┄┄┚\n",
            "Player 0 plays pair.\n",
            "┍┄┄┄┑┍┄┄┄┑\n",
            "┆10   ┆┆10   ┆\n",
            "┆  ♣  ┆┆  ♠  ┆\n",
            "┆   10┆┆   10┆\n",
            "┖┄┄┄┚┖┄┄┄┚\n",
            "Player 1 plays pair.\n",
            "┍┄┄┄┑┍┄┄┄┑\n",
            "┆ Ph  ┆┆ J   ┆\n",
            "┆ oe  ┆┆  ♠  ┆\n",
            "┆ nix ┆┆   J ┆\n",
            "┖┄┄┄┚┖┄┄┄┚\n",
            "Player 2 passes\n",
            "Player 3 passes\n",
            "Player 0 passes\n",
            "Player 1 plays solo.\n",
            "┍┄┄┄┑\n",
            "┆ 5   ┆\n",
            "┆  ♡  ┆\n",
            "┆   5 ┆\n",
            "┖┄┄┄┚\n",
            "Player 2 plays solo.\n",
            "┍┄┄┄┑\n",
            "┆ 6   ┆\n",
            "┆  ♢  ┆\n",
            "┆   6 ┆\n",
            "┖┄┄┄┚\n",
            "Player 3 plays solo.\n",
            "┍┄┄┄┑\n",
            "┆ 7   ┆\n",
            "┆  ♠  ┆\n",
            "┆   7 ┆\n",
            "┖┄┄┄┚\n",
            "Player 0 plays solo.\n",
            "┍┄┄┄┑\n",
            "┆ 8   ┆\n",
            "┆  ♠  ┆\n",
            "┆   8 ┆\n",
            "┖┄┄┄┚\n",
            "Player 1 plays solo.\n",
            "┍┄┄┄┑\n",
            "┆ 9   ┆\n",
            "┆  ♢  ┆\n",
            "┆   9 ┆\n",
            "┖┄┄┄┚\n",
            "Player 2 plays solo.\n",
            "┍┄┄┄┑\n",
            "┆ J   ┆\n",
            "┆  ♣  ┆\n",
            "┆   J ┆\n",
            "┖┄┄┄┚\n",
            "Player 3 plays solo.\n",
            "┍┄┄┄┑\n",
            "┆ Q   ┆\n",
            "┆  ♡  ┆\n",
            "┆   Q ┆\n",
            "┖┄┄┄┚\n",
            "Player 0 plays solo.\n",
            "┍┄┄┄┑\n",
            "┆ A   ┆\n",
            "┆  ♣  ┆\n",
            "┆   A ┆\n",
            "┖┄┄┄┚\n",
            "Player 1 passes\n",
            "Player 2 passes\n",
            "Player 3 passes\n",
            "Player 0 plays straight.\n",
            "┍┄┄┄┑┍┄┄┄┑┍┄┄┄┑┍┄┄┄┑┍┄┄┄┑\n",
            "┆     ┆┆ 2   ┆┆ 3   ┆┆ 4   ┆┆ 5   ┆\n",
            "┆  1  ┆┆  ♣  ┆┆  ♠  ┆┆  ♠  ┆┆  ♠  ┆\n",
            "┆     ┆┆   2 ┆┆   3 ┆┆   4 ┆┆   5 ┆\n",
            "┖┄┄┄┚┖┄┄┄┚┖┄┄┄┚┖┄┄┄┚┖┄┄┄┚\n",
            "Player 1 passes\n",
            "Player 2 passes\n",
            "Player 3 passes\n",
            "Player 0 plays solo.\n",
            "┍┄┄┄┑\n",
            "┆ 8   ┆\n",
            "┆  ♣  ┆\n",
            "┆   8 ┆\n",
            "┖┄┄┄┚\n",
            "Player 1 plays solo.\n",
            "┍┄┄┄┑\n",
            "┆ 9   ┆\n",
            "┆  ♠  ┆\n",
            "┆   9 ┆\n",
            "┖┄┄┄┚\n",
            "Player 2 plays solo.\n",
            "┍┄┄┄┑\n",
            "┆ Q   ┆\n",
            "┆  ♣  ┆\n",
            "┆   Q ┆\n",
            "┖┄┄┄┚\n",
            "Player 3 plays solo.\n",
            "┍┄┄┄┑\n",
            "┆ K   ┆\n",
            "┆  ♡  ┆\n",
            "┆   K ┆\n",
            "┖┄┄┄┚\n",
            "Player 0 plays solo.\n",
            "┍┄┄┄┑\n",
            "┆ Dr  ┆\n",
            "┆ ag  ┆\n",
            "┆ on  ┆\n",
            "┖┄┄┄┚\n",
            "Player 1 passes\n",
            "Player 2 passes\n",
            "Player 3 passes\n",
            "Player 0 gave dragon stack to player 3\n",
            "Player 0 plays solo.\n",
            "┍┄┄┄┑\n",
            "┆ 9   ┆\n",
            "┆  ♣  ┆\n",
            "┆   9 ┆\n",
            "┖┄┄┄┚\n",
            "Player 1 plays solo.\n",
            "┍┄┄┄┑\n",
            "┆10   ┆\n",
            "┆  ♢  ┆\n",
            "┆   10┆\n",
            "┖┄┄┄┚\n",
            "Player 2 passes\n",
            "Player 3 passes\n",
            "Player 0 plays solo.\n",
            "┍┄┄┄┑\n",
            "┆ J   ┆\n",
            "┆  ♢  ┆\n",
            "┆   J ┆\n",
            "┖┄┄┄┚\n",
            "Player 1 plays solo.\n",
            "┍┄┄┄┑\n",
            "┆ Q   ┆\n",
            "┆  ♠  ┆\n",
            "┆   Q ┆\n",
            "┖┄┄┄┚\n",
            "Player 2 passes\n",
            "Player 3 passes\n",
            "Player 0 passes\n",
            "Player 1 plays pair.\n",
            "┍┄┄┄┑┍┄┄┄┑\n",
            "┆ K   ┆┆ K   ┆\n",
            "┆  ♣  ┆┆  ♢  ┆\n",
            "┆   K ┆┆   K ┆\n",
            "┖┄┄┄┚┖┄┄┄┚\n",
            "Player 2 passes\n",
            "Player 3 passes\n",
            "Player 0 passes\n",
            "Player 1 plays solo.\n",
            "┍┄┄┄┑\n",
            "┆ 3   ┆\n",
            "┆  ♢  ┆\n",
            "┆   3 ┆\n",
            "┖┄┄┄┚\n",
            "Player 2 plays solo.\n",
            "┍┄┄┄┑\n",
            "┆ 4   ┆\n",
            "┆  ♢  ┆\n",
            "┆   4 ┆\n",
            "┖┄┄┄┚\n",
            "Player 3 plays solo.\n",
            "┍┄┄┄┑\n",
            "┆ 5   ┆\n",
            "┆  ♣  ┆\n",
            "┆   5 ┆\n",
            "┖┄┄┄┚\n",
            "Player 0 plays solo.\n",
            "┍┄┄┄┑\n",
            "┆10   ┆\n",
            "┆  ♠  ┆\n",
            "┆   10┆\n",
            "┖┄┄┄┚\n",
            "Player 0 has finished on position 1!\n",
            "Player 1 plays solo.\n",
            "┍┄┄┄┑\n",
            "┆ A   ┆\n",
            "┆  ♡  ┆\n",
            "┆   A ┆\n",
            "┖┄┄┄┚\n",
            "Player 2 passes\n",
            "Player 3 passes\n",
            "Player 0 passes\n",
            "Player 1 plays solo.\n",
            "┍┄┄┄┑\n",
            "┆ 7   ┆\n",
            "┆  ♣  ┆\n",
            "┆   7 ┆\n",
            "┖┄┄┄┚\n",
            "Player 2 plays solo.\n",
            "┍┄┄┄┑\n",
            "┆ 9   ┆\n",
            "┆  ♡  ┆\n",
            "┆   9 ┆\n",
            "┖┄┄┄┚\n",
            "Player 3 plays solo.\n",
            "┍┄┄┄┑\n",
            "┆ J   ┆\n",
            "┆  ♡  ┆\n",
            "┆   J ┆\n",
            "┖┄┄┄┚\n",
            "Player 0 passes\n",
            "Player 1 passes\n",
            "Player 2 passes\n",
            "Player 3 plays solo.\n",
            "┍┄┄┄┑\n",
            "┆ Q   ┆\n",
            "┆  ♢  ┆\n",
            "┆   Q ┆\n",
            "┖┄┄┄┚\n",
            "Player 0 passes\n",
            "Player 1 passes\n",
            "Player 2 passes\n",
            "Player 3 plays solo.\n",
            "┍┄┄┄┑\n",
            "┆ K   ┆\n",
            "┆  ♠  ┆\n",
            "┆   K ┆\n",
            "┖┄┄┄┚\n",
            "Player 0 passes\n",
            "Player 1 passes\n",
            "Player 2 passes\n",
            "Player 3 plays solo.\n",
            "┍┄┄┄┑\n",
            "┆ 6   ┆\n",
            "┆  ♣  ┆\n",
            "┆   6 ┆\n",
            "┖┄┄┄┚\n",
            "Player 0 passes\n",
            "Player 1 passes\n",
            "Player 2 plays solo.\n",
            "┍┄┄┄┑\n",
            "┆ 7   ┆\n",
            "┆  ♢  ┆\n",
            "┆   7 ┆\n",
            "┖┄┄┄┚\n",
            "Player 3 plays solo.\n",
            "┍┄┄┄┑\n",
            "┆ 8   ┆\n",
            "┆  ♡  ┆\n",
            "┆   8 ┆\n",
            "┖┄┄┄┚\n",
            "Player 0 passes\n",
            "Player 1 passes\n",
            "Player 2 passes\n",
            "Player 3 plays solo.\n",
            "┍┄┄┄┑\n",
            "┆ 6   ┆\n",
            "┆  ♡  ┆\n",
            "┆   6 ┆\n",
            "┖┄┄┄┚\n",
            "Player 0 passes\n",
            "Player 1 passes\n",
            "Player 2 plays solo.\n",
            "┍┄┄┄┑\n",
            "┆ 7   ┆\n",
            "┆  ♡  ┆\n",
            "┆   7 ┆\n",
            "┖┄┄┄┚\n",
            "Player 3 plays solo.\n",
            "┍┄┄┄┑\n",
            "┆ A   ┆\n",
            "┆  ♢  ┆\n",
            "┆   A ┆\n",
            "┖┄┄┄┚\n",
            "Player 0 passes\n",
            "Player 1 passes\n",
            "Player 2 passes\n",
            "Player 3 plays solo.\n",
            "┍┄┄┄┑\n",
            "┆ 2   ┆\n",
            "┆  ♠  ┆\n",
            "┆   2 ┆\n",
            "┖┄┄┄┚\n",
            "Player 0 passes\n",
            "Player 1 passes\n",
            "Player 2 plays solo.\n",
            "┍┄┄┄┑\n",
            "┆ 3   ┆\n",
            "┆  ♡  ┆\n",
            "┆   3 ┆\n",
            "┖┄┄┄┚\n",
            "Player 3 plays solo.\n",
            "┍┄┄┄┑\n",
            "┆ A   ┆\n",
            "┆  ♠  ┆\n",
            "┆   A ┆\n",
            "┖┄┄┄┚\n",
            "Player 0 passes\n",
            "Player 1 passes\n",
            "Player 2 passes\n",
            "Player 3 plays solo.\n",
            "┍┄┄┄┑\n",
            "┆     ┆\n",
            "┆ Dog ┆\n",
            "┆     ┆\n",
            "┖┄┄┄┚\n",
            "Player 3 has finished on position 2!\n",
            "Player 1 plays solo.\n",
            "┍┄┄┄┑\n",
            "┆ 8   ┆\n",
            "┆  ♢  ┆\n",
            "┆   8 ┆\n",
            "┖┄┄┄┚\n",
            "Player 2 passes\n",
            "Player 3 passes\n",
            "Player 0 passes\n",
            "Player 1 plays solo.\n",
            "┍┄┄┄┑\n",
            "┆ 3   ┆\n",
            "┆  ♣  ┆\n",
            "┆   3 ┆\n",
            "┖┄┄┄┚\n",
            "Player 1 has finished on position 3!\n",
            "Game is finished!\n",
            "Score of player 0 and player 2: 10\n",
            "Score of player 1 and player 3: 90\n"
          ],
          "name": "stdout"
        }
      ]
    },
    {
      "cell_type": "markdown",
      "metadata": {
        "id": "66jqUyAVmFLX",
        "colab_type": "text"
      },
      "source": [
        "# Test Environment (class Env)"
      ]
    },
    {
      "cell_type": "code",
      "metadata": {
        "id": "iRGVhaIamMqf",
        "colab_type": "code",
        "colab": {}
      },
      "source": [
        "env = Env()"
      ],
      "execution_count": 3,
      "outputs": []
    },
    {
      "cell_type": "code",
      "metadata": {
        "id": "0PwWU9tbqTLS",
        "colab_type": "code",
        "colab": {
          "base_uri": "https://localhost:8080/",
          "height": 34
        },
        "outputId": "c3fefa87-0eaf-474d-d13b-2c1b9186e1e4"
      },
      "source": [
        "state, _, _, _ = env.reset()\n",
        "print(np.shape(state))\n",
        "for i in range(4):\n",
        "    assert sum(state[i][0][2]) == 14"
      ],
      "execution_count": 5,
      "outputs": [
        {
          "output_type": "stream",
          "text": [
            "(4, 4, 3)\n"
          ],
          "name": "stdout"
        }
      ]
    },
    {
      "cell_type": "markdown",
      "metadata": {
        "id": "Kwa-A5zaxEcZ",
        "colab_type": "text"
      },
      "source": [
        "# Debugging Area"
      ]
    },
    {
      "cell_type": "code",
      "metadata": {
        "id": "kwVxzYetx227",
        "colab_type": "code",
        "colab": {}
      },
      "source": [
        "# nothing here"
      ],
      "execution_count": 20,
      "outputs": []
    }
  ]
}