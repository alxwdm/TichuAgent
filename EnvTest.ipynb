{
  "nbformat": 4,
  "nbformat_minor": 0,
  "metadata": {
    "colab": {
      "name": "EnvTest.ipynb",
      "provenance": [],
      "toc_visible": true,
      "authorship_tag": "ABX9TyOM0PAWroA8k7UwfwSikdoL"
    },
    "kernelspec": {
      "name": "python3",
      "display_name": "Python 3"
    }
  },
  "cells": [
    {
      "cell_type": "markdown",
      "metadata": {
        "id": "f2gRFouYXPRZ",
        "colab_type": "text"
      },
      "source": [
        "# Setup"
      ]
    },
    {
      "cell_type": "code",
      "metadata": {
        "id": "EPJL8KQFXDD_",
        "colab_type": "code",
        "colab": {}
      },
      "source": [
        "# Execute after restarting runtime\n",
        "!git clone https://github.com/alxwdm/tichuagent"
      ],
      "execution_count": null,
      "outputs": []
    },
    {
      "cell_type": "code",
      "metadata": {
        "id": "L4CBp1WIXOT5",
        "colab_type": "code",
        "colab": {}
      },
      "source": [
        "# Execute when content on github changed\n",
        "%cd /content/tichuagent\n",
        "!git pull\n",
        "%cd /content/"
      ],
      "execution_count": null,
      "outputs": []
    },
    {
      "cell_type": "code",
      "metadata": {
        "id": "JaFgsU18Xnm0",
        "colab_type": "code",
        "colab": {}
      },
      "source": [
        "import sys\n",
        "sys.path.append('/content/tichuagent')\n",
        "from env.Card import Card\n",
        "from env.Cards import Cards"
      ],
      "execution_count": 3,
      "outputs": []
    },
    {
      "cell_type": "code",
      "metadata": {
        "id": "gpQLq3RijFwi",
        "colab_type": "code",
        "colab": {
          "base_uri": "https://localhost:8080/",
          "height": 34
        },
        "outputId": "75f98b96-eba8-439a-b2f8-78abd904db87"
      },
      "source": [
        "from importlib import reload\n",
        "import env.Card\n",
        "import env.Cards\n",
        "reload(env.Card)\n",
        "reload(env.Cards)"
      ],
      "execution_count": 4,
      "outputs": [
        {
          "output_type": "execute_result",
          "data": {
            "text/plain": [
              "<module 'env.Cards' from '/content/tichuagent/env/Cards.py'>"
            ]
          },
          "metadata": {
            "tags": []
          },
          "execution_count": 4
        }
      ]
    },
    {
      "cell_type": "markdown",
      "metadata": {
        "id": "d0N8qAXYfHPh",
        "colab_type": "text"
      },
      "source": [
        "# Class Card"
      ]
    },
    {
      "cell_type": "code",
      "metadata": {
        "id": "8sCw2jRmfJBT",
        "colab_type": "code",
        "colab": {}
      },
      "source": [
        "# Instantiate 'regular' cards\n",
        "Spd_2 = Card(name='2', suit='Spade')\n",
        "Hrt_2 = Card(name='2', suit='Heart')\n",
        "Dia_2 = Card(name='2', suit='Dia')\n",
        "Clb_2 = Card(name='2', suit='Club')\n",
        "\n",
        "Spd_3 = Card(name='3', suit='Spade')\n",
        "Hrt_3 = Card(name='3', suit='Heart')\n",
        "Dia_3 = Card(name='3', suit='Dia')\n",
        "Clb_3 = Card(name='3', suit='Club')\n",
        "\n",
        "Spd_4 = Card(name='4', suit='Spade')\n",
        "Hrt_4 = Card(name='4', suit='Heart')\n",
        "Dia_4 = Card(name='4', suit='Dia')\n",
        "Clb_4 = Card(name='4', suit='Club')\n",
        "\n",
        "Spd_5 = Card(name='5', suit='Spade')\n",
        "Hrt_5 = Card(name='5', suit='Heart')\n",
        "Dia_5 = Card(name='5', suit='Dia')\n",
        "Clb_5 = Card(name='5', suit='Club')\n",
        "\n",
        "Spd_6 = Card(name='6', suit='Spade')\n",
        "Hrt_6 = Card(name='6', suit='Heart')\n",
        "Dia_6 = Card(name='6', suit='Dia')\n",
        "Clb_6 = Card(name='6', suit='Club')\n",
        "\n",
        "Spd_7 = Card(name='7', suit='Spade')\n",
        "Hrt_7 = Card(name='7', suit='Heart')\n",
        "Dia_7 = Card(name='7', suit='Dia')\n",
        "Clb_7 = Card(name='7', suit='Club')\n",
        "\n",
        "Spd_8 = Card(name='8', suit='Spade')\n",
        "Hrt_8 = Card(name='8', suit='Heart')\n",
        "Dia_8 = Card(name='8', suit='Dia')\n",
        "Clb_8 = Card(name='8', suit='Club')\n",
        "\n",
        "Spd_9 = Card(name='9', suit='Spade')\n",
        "Hrt_9 = Card(name='9', suit='Heart')\n",
        "Dia_9 = Card(name='9', suit='Dia')\n",
        "Clb_9 = Card(name='9', suit='Club')\n",
        "\n",
        "Spd_10 = Card(name='10', suit='Spade')\n",
        "Hrt_10 = Card(name='10', suit='Heart')\n",
        "Dia_10 = Card(name='10', suit='Dia')\n",
        "Clb_10 = Card(name='10', suit='Club')\n",
        "\n",
        "Spd_J = Card(name='J', suit='Spade')\n",
        "Hrt_J = Card(name='J', suit='Heart')\n",
        "Dia_J = Card(name='J', suit='Dia')\n",
        "Clb_J = Card(name='J', suit='Club')\n",
        "\n",
        "Spd_Q = Card(name='Q', suit='Spade')\n",
        "Hrt_Q = Card(name='Q', suit='Heart')\n",
        "Dia_Q = Card(name='Q', suit='Dia')\n",
        "Clb_Q = Card(name='Q', suit='Club')\n",
        "\n",
        "Spd_K = Card(name='K', suit='Spade')\n",
        "Hrt_K = Card(name='K', suit='Heart')\n",
        "Dia_K = Card(name='K', suit='Dia')\n",
        "Clb_K = Card(name='K', suit='Club')\n",
        "\n",
        "Spd_A = Card(name='A', suit='Spade')\n",
        "Hrt_A = Card(name='A', suit='Heart')\n",
        "Dia_A = Card(name='A', suit='Dia')\n",
        "Clb_A = Card(name='A', suit='Club')\n",
        "\n",
        "# instantiate 'special' cards\n",
        "Majong = Card(name='Majong', suit='Special')\n",
        "Dragon = Card(name='Dragon', suit='Special')\n",
        "Phoenix = Card(name='Phoenix', suit='Special')\n",
        "Dog = Card(name='Dog', suit='Special')"
      ],
      "execution_count": 5,
      "outputs": []
    },
    {
      "cell_type": "code",
      "metadata": {
        "id": "CcMBvgRIgT7-",
        "colab_type": "code",
        "colab": {}
      },
      "source": [
        "# Test logical operations\n",
        "assert (Spd_A > Hrt_10) == True \n",
        "assert (Clb_J > Dia_K) == False\n",
        "assert (Clb_K >= Hrt_K) == True \n",
        "assert (Dia_Q < Hrt_Q) == False\n",
        "assert (Hrt_2 <= Spd_2) == True \n",
        "assert (Clb_2 == Spd_3) == False"
      ],
      "execution_count": 21,
      "outputs": []
    },
    {
      "cell_type": "code",
      "metadata": {
        "id": "GOdTcbkIhGbz",
        "colab_type": "code",
        "colab": {}
      },
      "source": [
        "# Test game points\n",
        "assert Spd_10.points == 10\n",
        "assert Dia_K.points == 10\n",
        "assert Hrt_5.points == 5\n",
        "assert Dragon.points == 25\n",
        "assert Phoenix.points == -25\n",
        "assert Clb_A.points == 0"
      ],
      "execution_count": 22,
      "outputs": []
    },
    {
      "cell_type": "markdown",
      "metadata": {
        "id": "8YlLR5nqfJZP",
        "colab_type": "text"
      },
      "source": [
        "# Class Cards"
      ]
    },
    {
      "cell_type": "code",
      "metadata": {
        "id": "UaqxrRn1fKW3",
        "colab_type": "code",
        "colab": {}
      },
      "source": [
        "# instantiate some card sets\n",
        "\n",
        "random = Cards([Spd_10, Hrt_10, Dia_2, Phoenix, Dragon, Clb_K, Dia_J, Dia_J])\n",
        "\n",
        "empty = Cards([])\n",
        "\n",
        "solo_0 = Cards([Spd_A])\n",
        "solo_1 = Cards([Hrt_5])\n",
        "solo_2 = Cards([Dragon])\n",
        "\n",
        "pair_0 = Cards([Spd_J, Dia_J])\n",
        "pair_1 = Cards([Spd_7, Phoenix])\n",
        "\n",
        "triple_0 = Cards([Spd_K, Hrt_K, Dia_K])\n",
        "triple_1 = Cards([Spd_3, Hrt_3, Phoenix])\n",
        "\n",
        "four_0 = Cards([Spd_10, Hrt_10, Dia_10, Clb_10]) # bomb\n",
        "four_1 = Cards([Spd_10, Hrt_10, Dia_10, Phoenix]) # no bomb\n",
        "\n",
        "fh_0 = Cards([Spd_3, Hrt_3, Clb_3, Spd_K, Hrt_K])\n",
        "fh_1 = Cards([Spd_K, Hrt_K, Phoenix, Spd_3, Hrt_3])\n",
        "fh_2 = Cards([Spd_4, Hrt_4, Clb_4, Phoenix, Hrt_K])\n",
        "\n",
        "strt_0 = Cards([Spd_3, Hrt_4, Clb_5, Spd_6, Hrt_7])\n",
        "strt_1 = Cards([Spd_3, Hrt_4, Clb_5, Phoenix, Hrt_7])\n",
        "strt_2 = Cards([Majong, Hrt_2, Clb_3, Phoenix, Hrt_4])\n",
        "strt_3 = Cards([Spd_5, Hrt_2, Clb_3, Phoenix, Hrt_4])\n",
        "\n",
        "pair_seq_0 = Cards([Spd_J, Dia_J, Clb_Q, Dia_Q])\n",
        "pair_seq_1 = Cards([Spd_K, Phoenix, Clb_Q, Dia_Q])"
      ],
      "execution_count": 6,
      "outputs": []
    },
    {
      "cell_type": "code",
      "metadata": {
        "id": "WptdsVk3i0Nq",
        "colab_type": "code",
        "colab": {
          "base_uri": "https://localhost:8080/",
          "height": 187
        },
        "outputId": "3ad6dcec-5903-4523-9825-08cab2249ff5"
      },
      "source": [
        "# test printing function\n",
        "# TODO Rework this!\n",
        "random.show()\n",
        "triple_0.show()"
      ],
      "execution_count": 4,
      "outputs": [
        {
          "output_type": "stream",
          "text": [
            "┌┄┄┄┑┌┄┄┄┑┌┄┄┄┑┌┄┄┄┑┌┄┄┄┑┌┄┄┄┑┌┄┄┄┑┌┄┄┄┑\n",
            "┆Ph ┆┆2  ┆┆10 ┆┆10 ┆┆J  ┆┆J  ┆┆K  ┆┆Dr ┆\n",
            "┆   ┆┆ ♢ ┆┆ ♠ ┆┆ ♡ ┆┆ ♢ ┆┆ ♢ ┆┆ ♣ ┆┆   ┆\n",
            "┆ Ph┆┆  2┆┆ 10┆┆ 10┆┆  J┆┆  J┆┆  K┆┆ Dr┆\n",
            "┕┄┄┄┙┕┄┄┄┙┕┄┄┄┙┕┄┄┄┙┕┄┄┄┙┕┄┄┄┙┕┄┄┄┙┕┄┄┄┙\n",
            "┌┄┄┄┑┌┄┄┄┑┌┄┄┄┑\n",
            "┆K  ┆┆K  ┆┆K  ┆\n",
            "┆ ♠ ┆┆ ♡ ┆┆ ♢ ┆\n",
            "┆  K┆┆  K┆┆  K┆\n",
            "┕┄┄┄┙┕┄┄┄┙┕┄┄┄┙\n"
          ],
          "name": "stdout"
        }
      ]
    },
    {
      "cell_type": "code",
      "metadata": {
        "id": "sGHbQ3IsjvzE",
        "colab_type": "code",
        "colab": {
          "base_uri": "https://localhost:8080/",
          "height": 34
        },
        "outputId": "b1314947-b2b6-4d67-f22e-078077ff7fd2"
      },
      "source": [
        "# test card set type\n",
        "\n",
        "try:\n",
        "  assert random.type == 'hand'\n",
        "except:\n",
        "  print('random:', random.type)\n",
        "\n",
        "try:\n",
        "  assert empty.type == 'pass'\n",
        "except:\n",
        "  print('pass:', empty.type)\n",
        "\n",
        "try:\n",
        "  assert solo_0.type == 'solo'\n",
        "except:\n",
        "  print('solo_0:', solo_0.type)\n",
        "\n",
        "try:\n",
        "  assert solo_1.type == 'solo'\n",
        "except:\n",
        "  print('solo_1:', solo_1.type)\n",
        "\n",
        "try:\n",
        "  assert solo_2.type == 'solo'\n",
        "except:\n",
        "  print('solo_2:', solo_2.type)\n",
        "\n",
        "try:\n",
        "  assert pair_0.type == 'pair'\n",
        "except:\n",
        "  print('pair_0:', pair_0.type)\n",
        "\n",
        "try:\n",
        "  assert pair_1.type == 'pair'\n",
        "except:\n",
        "  print('pair_1:', pair_1.type)\n",
        "\n",
        "try:\n",
        "  assert triple_0.type == 'triple'\n",
        "except:\n",
        "  print('triple_0:', triple_0.type)\n",
        "\n",
        "try:\n",
        "  assert triple_1.type == 'triple'\n",
        "except:\n",
        "  print('triple_1:', triple_1.type)\n",
        "\n",
        "try:\n",
        "  assert four_0.type == 'four_bomb'\n",
        "except:\n",
        "  print('four_0:', four_0.type)\n",
        "\n",
        "try:\n",
        "  assert four_1.type == 'hand'\n",
        "except:\n",
        "  print('four_1:', four_1.type)\n",
        "\n",
        "try:\n",
        "  assert fh_0.type == 'full'\n",
        "except:\n",
        "  print('fh_0:', fh_0.type)\n",
        "\n",
        "try:\n",
        "  assert fh_1.type == 'full'\n",
        "except:\n",
        "  print('fh_1:', fh_1.type)\n",
        "\n",
        "try:\n",
        "  assert fh_2.type == 'full'\n",
        "except:\n",
        "  print('fh_2:', fh_2.type)\n",
        "\n",
        "try:\n",
        "  assert strt_0.type == 'straight'\n",
        "except:\n",
        "  print('strt_0:', strt_0.type)\n",
        "\n",
        "try:\n",
        "  assert strt_1.type == 'straight'\n",
        "except:\n",
        "  print('strt_1:', strt_1.type)\n",
        "\n",
        "try:\n",
        "  assert strt_2.type == 'straight'\n",
        "except:\n",
        "  print('strt_2:', strt_2.type)\n",
        "\n",
        "try:\n",
        "  assert strt_3.type == 'straight'\n",
        "except:\n",
        "  print('strt_3:', strt_3.type)\n",
        "\n",
        "\n",
        "try:\n",
        "  assert pair_seq_0.type == 'pair_seq'\n",
        "except:\n",
        "  print('pair_seq_0:', pair_seq_0.type)\n",
        "\n",
        "try:\n",
        "  assert pair_seq_1.type == 'pair_seq'\n",
        "except:\n",
        "  print('pair_seq_1:', pair_seq_1.type)"
      ],
      "execution_count": 8,
      "outputs": [
        {
          "output_type": "stream",
          "text": [
            "pair_seq_1: hand\n"
          ],
          "name": "stdout"
        }
      ]
    }
  ]
}