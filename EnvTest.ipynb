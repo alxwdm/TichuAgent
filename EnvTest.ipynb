{
  "nbformat": 4,
  "nbformat_minor": 0,
  "metadata": {
    "colab": {
      "name": "EnvTest.ipynb",
      "provenance": [],
      "authorship_tag": "ABX9TyMwsHQ1bFazGpBXTtDA2/UX"
    },
    "kernelspec": {
      "name": "python3",
      "display_name": "Python 3"
    }
  },
  "cells": [
    {
      "cell_type": "markdown",
      "metadata": {
        "id": "nJZ4otNTWe2i",
        "colab_type": "text"
      },
      "source": [
        "# EnvTest.ipynb\n",
        "\n",
        "This notebook tests the Python implementation of Tichu."
      ]
    },
    {
      "cell_type": "markdown",
      "metadata": {
        "id": "f2gRFouYXPRZ",
        "colab_type": "text"
      },
      "source": [
        "# Setup"
      ]
    },
    {
      "cell_type": "code",
      "metadata": {
        "id": "EPJL8KQFXDD_",
        "colab_type": "code",
        "colab": {}
      },
      "source": [
        "# Execute after restarting runtime\n",
        "!git clone https://github.com/alxwdm/tichuagent"
      ],
      "execution_count": null,
      "outputs": []
    },
    {
      "cell_type": "code",
      "metadata": {
        "id": "L4CBp1WIXOT5",
        "colab_type": "code",
        "colab": {}
      },
      "source": [
        "# Execute when content on github changed\n",
        "%cd /content/tichuagent\n",
        "!git pull\n",
        "%cd /content/"
      ],
      "execution_count": null,
      "outputs": []
    },
    {
      "cell_type": "code",
      "metadata": {
        "id": "JaFgsU18Xnm0",
        "colab_type": "code",
        "colab": {}
      },
      "source": [
        "import sys\n",
        "sys.path.append('/content/tichuagent')\n",
        "from env.Card import Card\n",
        "from env.Cards import Cards\n",
        "from env.Deck import Deck\n",
        "from env.Stack import Stack\n",
        "from env.Player import Player\n",
        "from env.Game import Game\n",
        "from env.Env import Env\n",
        "from run_tests import play_dumb_game"
      ],
      "execution_count": 1,
      "outputs": []
    },
    {
      "cell_type": "markdown",
      "metadata": {
        "id": "jAvn0YRQWoMP",
        "colab_type": "text"
      },
      "source": [
        "# Run tests of Tichu implementation via script\n",
        "\n",
        "Runs all class tests via run_tests.py. Also, plays 1000 random games to look for bugs that were not explicitly tested before."
      ]
    },
    {
      "cell_type": "code",
      "metadata": {
        "id": "dRhKzJfZUDdG",
        "colab_type": "code",
        "colab": {
          "base_uri": "https://localhost:8080/",
          "height": 221
        },
        "outputId": "04667b6d-fc6b-402b-c0d3-b01b5d2ec237"
      },
      "source": [
        "%%bash\n",
        "cd tichuagent\n",
        "python run_tests.py"
      ],
      "execution_count": null,
      "outputs": [
        {
          "output_type": "stream",
          "text": [
            "Running tests for class Card ...\n",
            "done!\n",
            "Running tests for class Cards ...\n",
            "done!\n",
            "Running tests for class Deck ...\n",
            "done!\n",
            "Running tests for class Stack ...\n",
            "done!\n",
            "Running tests for class Player ...\n",
            "done!\n",
            "Running tests for class Game with 1000 random games ...\n",
            "done!\n"
          ],
          "name": "stdout"
        }
      ]
    },
    {
      "cell_type": "markdown",
      "metadata": {
        "id": "j7iRoARL2aps",
        "colab_type": "text"
      },
      "source": [
        "# Play a random game with output"
      ]
    },
    {
      "cell_type": "code",
      "metadata": {
        "id": "BjRjHmLuq3BW",
        "colab_type": "code",
        "colab": {
          "base_uri": "https://localhost:8080/",
          "height": 1000
        },
        "outputId": "c84640b4-240f-4748-b416-5b743ac7f050"
      },
      "source": [
        "play_dumb_game()"
      ],
      "execution_count": null,
      "outputs": [
        {
          "output_type": "stream",
          "text": [
            "Player 0 hand is:\n",
            "┍┄┄┄┑┍┄┄┄┑┍┄┄┄┑┍┄┄┄┑┍┄┄┄┑┍┄┄┄┑┍┄┄┄┑┍┄┄┄┑┍┄┄┄┑┍┄┄┄┑┍┄┄┄┑┍┄┄┄┑┍┄┄┄┑┍┄┄┄┑\n",
            "┆     ┆┆ 2   ┆┆ 3   ┆┆ 4   ┆┆ 4   ┆┆ 6   ┆┆ 7   ┆┆ 7   ┆┆10   ┆┆10   ┆┆ K   ┆┆ K   ┆┆ A   ┆┆ Dr  ┆\n",
            "┆ Dog ┆┆  ♥  ┆┆  ♥  ┆┆  ♣  ┆┆  ♠  ┆┆  ♠  ┆┆  ⬧  ┆┆  ♣  ┆┆  ♠  ┆┆  ♥  ┆┆  ♣  ┆┆  ♥  ┆┆  ♠  ┆┆ ag  ┆\n",
            "┆     ┆┆   2 ┆┆   3 ┆┆   4 ┆┆   4 ┆┆   6 ┆┆   7 ┆┆   7 ┆┆   10┆┆   10┆┆   K ┆┆   K ┆┆   A ┆┆ on  ┆\n",
            "┖┄┄┄┚┖┄┄┄┚┖┄┄┄┚┖┄┄┄┚┖┄┄┄┚┖┄┄┄┚┖┄┄┄┚┖┄┄┄┚┖┄┄┄┚┖┄┄┄┚┖┄┄┄┚┖┄┄┄┚┖┄┄┄┚┖┄┄┄┚\n",
            "Player 1 hand is:\n",
            "┍┄┄┄┑┍┄┄┄┑┍┄┄┄┑┍┄┄┄┑┍┄┄┄┑┍┄┄┄┑┍┄┄┄┑┍┄┄┄┑┍┄┄┄┑┍┄┄┄┑┍┄┄┄┑┍┄┄┄┑┍┄┄┄┑┍┄┄┄┑\n",
            "┆ 3   ┆┆ 3   ┆┆ 5   ┆┆ 5   ┆┆ 5   ┆┆ 5   ┆┆ 8   ┆┆ 9   ┆┆ 9   ┆┆10   ┆┆ J   ┆┆ J   ┆┆ J   ┆┆ Q   ┆\n",
            "┆  ♣  ┆┆  ♠  ┆┆  ⬧  ┆┆  ♥  ┆┆  ♣  ┆┆  ♠  ┆┆  ♥  ┆┆  ♣  ┆┆  ♠  ┆┆  ♣  ┆┆  ⬧  ┆┆  ♣  ┆┆  ♥  ┆┆  ♥  ┆\n",
            "┆   3 ┆┆   3 ┆┆   5 ┆┆   5 ┆┆   5 ┆┆   5 ┆┆   8 ┆┆   9 ┆┆   9 ┆┆   10┆┆   J ┆┆   J ┆┆   J ┆┆   Q ┆\n",
            "┖┄┄┄┚┖┄┄┄┚┖┄┄┄┚┖┄┄┄┚┖┄┄┄┚┖┄┄┄┚┖┄┄┄┚┖┄┄┄┚┖┄┄┄┚┖┄┄┄┚┖┄┄┄┚┖┄┄┄┚┖┄┄┄┚┖┄┄┄┚\n",
            "Player 2 hand is:\n",
            "┍┄┄┄┑┍┄┄┄┑┍┄┄┄┑┍┄┄┄┑┍┄┄┄┑┍┄┄┄┑┍┄┄┄┑┍┄┄┄┑┍┄┄┄┑┍┄┄┄┑┍┄┄┄┑┍┄┄┄┑┍┄┄┄┑┍┄┄┄┑\n",
            "┆ Ph  ┆┆ 2   ┆┆ 2   ┆┆ 3   ┆┆ 4   ┆┆ 6   ┆┆ 6   ┆┆ 6   ┆┆ 7   ┆┆ 8   ┆┆ 9   ┆┆10   ┆┆ K   ┆┆ A   ┆\n",
            "┆ oe  ┆┆  ♣  ┆┆  ♠  ┆┆  ⬧  ┆┆  ⬧  ┆┆  ♥  ┆┆  ♣  ┆┆  ⬧  ┆┆  ♥  ┆┆  ♠  ┆┆  ♥  ┆┆  ⬧  ┆┆  ⬧  ┆┆  ⬧  ┆\n",
            "┆ nix ┆┆   2 ┆┆   2 ┆┆   3 ┆┆   4 ┆┆   6 ┆┆   6 ┆┆   6 ┆┆   7 ┆┆   8 ┆┆   9 ┆┆   10┆┆   K ┆┆   A ┆\n",
            "┖┄┄┄┚┖┄┄┄┚┖┄┄┄┚┖┄┄┄┚┖┄┄┄┚┖┄┄┄┚┖┄┄┄┚┖┄┄┄┚┖┄┄┄┚┖┄┄┄┚┖┄┄┄┚┖┄┄┄┚┖┄┄┄┚┖┄┄┄┚\n",
            "Player 3 hand is:\n",
            "┍┄┄┄┑┍┄┄┄┑┍┄┄┄┑┍┄┄┄┑┍┄┄┄┑┍┄┄┄┑┍┄┄┄┑┍┄┄┄┑┍┄┄┄┑┍┄┄┄┑┍┄┄┄┑┍┄┄┄┑┍┄┄┄┑┍┄┄┄┑\n",
            "┆     ┆┆ 2   ┆┆ 4   ┆┆ 7   ┆┆ 8   ┆┆ 8   ┆┆ 9   ┆┆ J   ┆┆ Q   ┆┆ Q   ┆┆ Q   ┆┆ K   ┆┆ A   ┆┆ A   ┆\n",
            "┆  1  ┆┆  ⬧  ┆┆  ♥  ┆┆  ♠  ┆┆  ⬧  ┆┆  ♣  ┆┆  ⬧  ┆┆  ♠  ┆┆  ♣  ┆┆  ⬧  ┆┆  ♠  ┆┆  ♠  ┆┆  ♥  ┆┆  ♣  ┆\n",
            "┆     ┆┆   2 ┆┆   4 ┆┆   7 ┆┆   8 ┆┆   8 ┆┆   9 ┆┆   J ┆┆   Q ┆┆   Q ┆┆   Q ┆┆   K ┆┆   A ┆┆   A ┆\n",
            "┖┄┄┄┚┖┄┄┄┚┖┄┄┄┚┖┄┄┄┚┖┄┄┄┚┖┄┄┄┚┖┄┄┄┚┖┄┄┄┚┖┄┄┄┚┖┄┄┄┚┖┄┄┄┚┖┄┄┄┚┖┄┄┄┚┖┄┄┄┚\n",
            "Player 3 plays solo.\n",
            "┍┄┄┄┑\n",
            "┆ K   ┆\n",
            "┆  ♠  ┆\n",
            "┆   K ┆\n",
            "┖┄┄┄┚\n",
            "Player 0 plays solo.\n",
            "┍┄┄┄┑\n",
            "┆ A   ┆\n",
            "┆  ♠  ┆\n",
            "┆   A ┆\n",
            "┖┄┄┄┚\n",
            "Player 1 plays four_bomb.\n",
            "┍┄┄┄┑┍┄┄┄┑┍┄┄┄┑┍┄┄┄┑\n",
            "┆ 5   ┆┆ 5   ┆┆ 5   ┆┆ 5   ┆\n",
            "┆  ⬧  ┆┆  ♥  ┆┆  ♣  ┆┆  ♠  ┆\n",
            "┆   5 ┆┆   5 ┆┆   5 ┆┆   5 ┆\n",
            "┖┄┄┄┚┖┄┄┄┚┖┄┄┄┚┖┄┄┄┚\n",
            "Player 2 passes\n",
            "Player 3 passes\n",
            "Player 0 passes\n",
            "Player 1 plays full.\n",
            "┍┄┄┄┑┍┄┄┄┑┍┄┄┄┑┍┄┄┄┑┍┄┄┄┑\n",
            "┆ 3   ┆┆ 3   ┆┆ J   ┆┆ J   ┆┆ J   ┆\n",
            "┆  ♣  ┆┆  ♠  ┆┆  ⬧  ┆┆  ♣  ┆┆  ♥  ┆\n",
            "┆   3 ┆┆   3 ┆┆   J ┆┆   J ┆┆   J ┆\n",
            "┖┄┄┄┚┖┄┄┄┚┖┄┄┄┚┖┄┄┄┚┖┄┄┄┚\n",
            "Player 2 passes\n",
            "Player 3 passes\n",
            "Player 0 passes\n",
            "Player 1 plays pair.\n",
            "┍┄┄┄┑┍┄┄┄┑\n",
            "┆ 9   ┆┆ 9   ┆\n",
            "┆  ♣  ┆┆  ♠  ┆\n",
            "┆   9 ┆┆   9 ┆\n",
            "┖┄┄┄┚┖┄┄┄┚\n",
            "Player 2 plays pair.\n",
            "┍┄┄┄┑┍┄┄┄┑\n",
            "┆ Ph  ┆┆10   ┆\n",
            "┆ oe  ┆┆  ⬧  ┆\n",
            "┆ nix ┆┆   10┆\n",
            "┖┄┄┄┚┖┄┄┄┚\n",
            "Player 3 plays pair.\n",
            "┍┄┄┄┑┍┄┄┄┑\n",
            "┆ Q   ┆┆ Q   ┆\n",
            "┆  ♣  ┆┆  ⬧  ┆\n",
            "┆   Q ┆┆   Q ┆\n",
            "┖┄┄┄┚┖┄┄┄┚\n",
            "Player 0 plays pair.\n",
            "┍┄┄┄┑┍┄┄┄┑\n",
            "┆ K   ┆┆ K   ┆\n",
            "┆  ♣  ┆┆  ♥  ┆\n",
            "┆   K ┆┆   K ┆\n",
            "┖┄┄┄┚┖┄┄┄┚\n",
            "Player 1 passes\n",
            "Player 2 passes\n",
            "Player 3 plays pair.\n",
            "┍┄┄┄┑┍┄┄┄┑\n",
            "┆ A   ┆┆ A   ┆\n",
            "┆  ♥  ┆┆  ♣  ┆\n",
            "┆   A ┆┆   A ┆\n",
            "┖┄┄┄┚┖┄┄┄┚\n",
            "Player 0 passes\n",
            "Player 1 passes\n",
            "Player 3 plays solo.\n",
            "┍┄┄┄┑\n",
            "┆ 2   ┆\n",
            "┆  ⬧  ┆\n",
            "┆   2 ┆\n",
            "┖┄┄┄┚\n",
            "Player 0 plays solo.\n",
            "┍┄┄┄┑\n",
            "┆ 3   ┆\n",
            "┆  ♥  ┆\n",
            "┆   3 ┆\n",
            "┖┄┄┄┚\n",
            "Player 1 plays solo.\n",
            "┍┄┄┄┑\n",
            "┆ 8   ┆\n",
            "┆  ♥  ┆\n",
            "┆   8 ┆\n",
            "┖┄┄┄┚\n",
            "Player 2 plays solo.\n",
            "┍┄┄┄┑\n",
            "┆ 9   ┆\n",
            "┆  ♥  ┆\n",
            "┆   9 ┆\n",
            "┖┄┄┄┚\n",
            "Player 3 plays solo.\n",
            "┍┄┄┄┑\n",
            "┆ J   ┆\n",
            "┆  ♠  ┆\n",
            "┆   J ┆\n",
            "┖┄┄┄┚\n",
            "Player 0 plays solo.\n",
            "┍┄┄┄┑\n",
            "┆ Dr  ┆\n",
            "┆ ag  ┆\n",
            "┆ on  ┆\n",
            "┖┄┄┄┚\n",
            "Player 1 passes\n",
            "Player 2 passes\n",
            "Player 3 passes\n",
            "Player 0 gave dragon stack to player 3\n",
            "Player 0 plays solo.\n",
            "┍┄┄┄┑\n",
            "┆10   ┆\n",
            "┆  ♠  ┆\n",
            "┆   10┆\n",
            "┖┄┄┄┚\n",
            "Player 1 plays solo.\n",
            "┍┄┄┄┑\n",
            "┆ Q   ┆\n",
            "┆  ♥  ┆\n",
            "┆   Q ┆\n",
            "┖┄┄┄┚\n",
            "Player 2 plays solo.\n",
            "┍┄┄┄┑\n",
            "┆ K   ┆\n",
            "┆  ⬧  ┆\n",
            "┆   K ┆\n",
            "┖┄┄┄┚\n",
            "Player 3 passes\n",
            "Player 0 passes\n",
            "Player 1 passes\n",
            "Player 2 plays pair.\n",
            "┍┄┄┄┑┍┄┄┄┑\n",
            "┆ 2   ┆┆ 2   ┆\n",
            "┆  ♣  ┆┆  ♠  ┆\n",
            "┆   2 ┆┆   2 ┆\n",
            "┖┄┄┄┚┖┄┄┄┚\n",
            "Player 3 plays pair.\n",
            "┍┄┄┄┑┍┄┄┄┑\n",
            "┆ 8   ┆┆ 8   ┆\n",
            "┆  ⬧  ┆┆  ♣  ┆\n",
            "┆   8 ┆┆   8 ┆\n",
            "┖┄┄┄┚┖┄┄┄┚\n",
            "Player 0 passes\n",
            "Player 1 passes\n",
            "Player 2 passes\n",
            "Player 3 plays solo.\n",
            "┍┄┄┄┑\n",
            "┆ Q   ┆\n",
            "┆  ♠  ┆\n",
            "┆   Q ┆\n",
            "┖┄┄┄┚\n",
            "Player 0 passes\n",
            "Player 1 passes\n",
            "Player 2 plays solo.\n",
            "┍┄┄┄┑\n",
            "┆ A   ┆\n",
            "┆  ⬧  ┆\n",
            "┆   A ┆\n",
            "┖┄┄┄┚\n",
            "Player 3 passes\n",
            "Player 0 passes\n",
            "Player 2 plays pair.\n",
            "┍┄┄┄┑┍┄┄┄┑\n",
            "┆ 6   ┆┆ 6   ┆\n",
            "┆  ♣  ┆┆  ⬧  ┆\n",
            "┆   6 ┆┆   6 ┆\n",
            "┖┄┄┄┚┖┄┄┄┚\n",
            "Player 3 passes\n",
            "Player 0 passes\n",
            "Player 1 passes\n",
            "Player 2 plays solo.\n",
            "┍┄┄┄┑\n",
            "┆ 3   ┆\n",
            "┆  ⬧  ┆\n",
            "┆   3 ┆\n",
            "┖┄┄┄┚\n",
            "Player 3 plays solo.\n",
            "┍┄┄┄┑\n",
            "┆ 4   ┆\n",
            "┆  ♥  ┆\n",
            "┆   4 ┆\n",
            "┖┄┄┄┚\n",
            "Player 0 plays solo.\n",
            "┍┄┄┄┑\n",
            "┆ 6   ┆\n",
            "┆  ♠  ┆\n",
            "┆   6 ┆\n",
            "┖┄┄┄┚\n",
            "Player 1 plays solo.\n",
            "┍┄┄┄┑\n",
            "┆10   ┆\n",
            "┆  ♣  ┆\n",
            "┆   10┆\n",
            "┖┄┄┄┚\n",
            "Player 1 has finished on position 1!\n",
            "Player 2 passes\n",
            "Player 3 passes\n",
            "Player 0 passes\n",
            "Player 1 passes\n",
            "Player 2 plays solo.\n",
            "┍┄┄┄┑\n",
            "┆ 8   ┆\n",
            "┆  ♠  ┆\n",
            "┆   8 ┆\n",
            "┖┄┄┄┚\n",
            "Player 3 plays solo.\n",
            "┍┄┄┄┑\n",
            "┆ 9   ┆\n",
            "┆  ⬧  ┆\n",
            "┆   9 ┆\n",
            "┖┄┄┄┚\n",
            "Player 0 plays solo.\n",
            "┍┄┄┄┑\n",
            "┆10   ┆\n",
            "┆  ♥  ┆\n",
            "┆   10┆\n",
            "┖┄┄┄┚\n",
            "Player 1 passes\n",
            "Player 2 passes\n",
            "Player 3 passes\n",
            "Player 0 plays solo.\n",
            "┍┄┄┄┑\n",
            "┆ 4   ┆\n",
            "┆  ♠  ┆\n",
            "┆   4 ┆\n",
            "┖┄┄┄┚\n",
            "Player 1 passes\n",
            "Player 2 passes\n",
            "Player 3 plays solo.\n",
            "┍┄┄┄┑\n",
            "┆ 7   ┆\n",
            "┆  ♠  ┆\n",
            "┆   7 ┆\n",
            "┖┄┄┄┚\n",
            "Player 0 passes\n",
            "Player 1 passes\n",
            "Player 3 plays solo.\n",
            "┍┄┄┄┑\n",
            "┆     ┆\n",
            "┆  1  ┆\n",
            "┆     ┆\n",
            "┖┄┄┄┚\n",
            "Player 3 has finished on position 2!\n",
            "Double team victory by players 1 and 3!\n"
          ],
          "name": "stdout"
        }
      ]
    },
    {
      "cell_type": "markdown",
      "metadata": {
        "id": "66jqUyAVmFLX",
        "colab_type": "text"
      },
      "source": [
        "# Test Environment (class Env)"
      ]
    },
    {
      "cell_type": "code",
      "metadata": {
        "id": "iRGVhaIamMqf",
        "colab_type": "code",
        "colab": {}
      },
      "source": [
        "env = Env()"
      ],
      "execution_count": 2,
      "outputs": []
    },
    {
      "cell_type": "code",
      "metadata": {
        "id": "0PwWU9tbqTLS",
        "colab_type": "code",
        "colab": {
          "base_uri": "https://localhost:8080/",
          "height": 71
        },
        "outputId": "d254f962-c3e9-44f7-d7f4-ec918e5d4454"
      },
      "source": [
        "state, _, _ = env.reset()\n",
        "print(state)\n",
        "print('Sum of cards:', sum(state[0][2]))"
      ],
      "execution_count": 3,
      "outputs": [
        {
          "output_type": "stream",
          "text": [
            "[[14, 0, [0, 1, 0, 1, 0, 1, 0, 0, 0, 0, 1, 1, 0, 0, 0, 0, 0, 0, 1, 0, 0, 0, 0, 0, 0, 0, 0, 0, 0, 0, 0, 1, 0, 0, 0, 0, 0, 0, 0, 0, 1, 0, 0, 0, 0, 0, 1, 0, 0, 0, 1, 0, 1, 1, 1, 1]], [14, 0, [0, 0, 0, 0, 0, 0, 0, 0, 0, 0, 0, 0, 0, 0, 0, 0, 0, 0, 0, 0, 0, 0, 0, 0, 0, 0, 0, 0, 0, 0, 0, 0, 0, 0, 0, 0, 0, 0, 0, 0, 0, 0, 0, 0, 0, 0, 0, 0, 0, 0, 0, 0, 0, 0, 0, 0]], [14, 0, [0, 0, 0, 0, 0, 0, 0, 0, 0, 0, 0, 0, 0, 0, 0, 0, 0, 0, 0, 0, 0, 0, 0, 0, 0, 0, 0, 0, 0, 0, 0, 0, 0, 0, 0, 0, 0, 0, 0, 0, 0, 0, 0, 0, 0, 0, 0, 0, 0, 0, 0, 0, 0, 0, 0, 0]], [14, 0, [0, 0, 0, 0, 0, 0, 0, 0, 0, 0, 0, 0, 0, 0, 0, 0, 0, 0, 0, 0, 0, 0, 0, 0, 0, 0, 0, 0, 0, 0, 0, 0, 0, 0, 0, 0, 0, 0, 0, 0, 0, 0, 0, 0, 0, 0, 0, 0, 0, 0, 0, 0, 0, 0, 0, 0]]]\n",
            "Sum of cards: 14\n"
          ],
          "name": "stdout"
        }
      ]
    }
  ]
}