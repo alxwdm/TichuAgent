{
  "nbformat": 4,
  "nbformat_minor": 0,
  "metadata": {
    "colab": {
      "name": "EnvTest.ipynb",
      "provenance": [],
      "authorship_tag": "ABX9TyOs0qbWGPDruGS6hZ7219Rq"
    },
    "kernelspec": {
      "name": "python3",
      "display_name": "Python 3"
    }
  },
  "cells": [
    {
      "cell_type": "markdown",
      "metadata": {
        "id": "f2gRFouYXPRZ",
        "colab_type": "text"
      },
      "source": [
        "# Setup"
      ]
    },
    {
      "cell_type": "code",
      "metadata": {
        "id": "EPJL8KQFXDD_",
        "colab_type": "code",
        "colab": {}
      },
      "source": [
        "# Execute after restarting runtime\n",
        "!git clone https://github.com/alxwdm/tichuagent"
      ],
      "execution_count": null,
      "outputs": []
    },
    {
      "cell_type": "code",
      "metadata": {
        "id": "L4CBp1WIXOT5",
        "colab_type": "code",
        "colab": {}
      },
      "source": [
        "# Execute when content on github changed\n",
        "%cd /content/tichuagent\n",
        "!git pull\n",
        "%cd /content/"
      ],
      "execution_count": null,
      "outputs": []
    },
    {
      "cell_type": "code",
      "metadata": {
        "id": "JaFgsU18Xnm0",
        "colab_type": "code",
        "colab": {}
      },
      "source": [
        "import sys\n",
        "sys.path.append('/content/tichuagent')\n",
        "from env.Card import Card\n",
        "from env.Cards import Cards\n",
        "from env.Deck import Deck\n",
        "from env.Stack import Stack"
      ],
      "execution_count": 1,
      "outputs": []
    },
    {
      "cell_type": "markdown",
      "metadata": {
        "id": "d0N8qAXYfHPh",
        "colab_type": "text"
      },
      "source": [
        "# Class Card"
      ]
    },
    {
      "cell_type": "code",
      "metadata": {
        "id": "8sCw2jRmfJBT",
        "colab_type": "code",
        "colab": {}
      },
      "source": [
        "# Instantiate 'regular' cards\n",
        "\n",
        "Spd_2 = Card(name='2', suit='Spade')\n",
        "Hrt_2 = Card(name='2', suit='Heart')\n",
        "Dia_2 = Card(name='2', suit='Dia')\n",
        "Clb_2 = Card(name='2', suit='Club')\n",
        "\n",
        "Spd_3 = Card(name='3', suit='Spade')\n",
        "Hrt_3 = Card(name='3', suit='Heart')\n",
        "Dia_3 = Card(name='3', suit='Dia')\n",
        "Clb_3 = Card(name='3', suit='Club')\n",
        "\n",
        "Spd_4 = Card(name='4', suit='Spade')\n",
        "Hrt_4 = Card(name='4', suit='Heart')\n",
        "Dia_4 = Card(name='4', suit='Dia')\n",
        "Clb_4 = Card(name='4', suit='Club')\n",
        "\n",
        "Spd_5 = Card(name='5', suit='Spade')\n",
        "Hrt_5 = Card(name='5', suit='Heart')\n",
        "Dia_5 = Card(name='5', suit='Dia')\n",
        "Clb_5 = Card(name='5', suit='Club')\n",
        "\n",
        "Spd_6 = Card(name='6', suit='Spade')\n",
        "Hrt_6 = Card(name='6', suit='Heart')\n",
        "Dia_6 = Card(name='6', suit='Dia')\n",
        "Clb_6 = Card(name='6', suit='Club')\n",
        "\n",
        "Spd_7 = Card(name='7', suit='Spade')\n",
        "Hrt_7 = Card(name='7', suit='Heart')\n",
        "Dia_7 = Card(name='7', suit='Dia')\n",
        "Clb_7 = Card(name='7', suit='Club')\n",
        "\n",
        "Spd_8 = Card(name='8', suit='Spade')\n",
        "Hrt_8 = Card(name='8', suit='Heart')\n",
        "Dia_8 = Card(name='8', suit='Dia')\n",
        "Clb_8 = Card(name='8', suit='Club')\n",
        "\n",
        "Spd_9 = Card(name='9', suit='Spade')\n",
        "Hrt_9 = Card(name='9', suit='Heart')\n",
        "Dia_9 = Card(name='9', suit='Dia')\n",
        "Clb_9 = Card(name='9', suit='Club')\n",
        "\n",
        "Spd_10 = Card(name='10', suit='Spade')\n",
        "Hrt_10 = Card(name='10', suit='Heart')\n",
        "Dia_10 = Card(name='10', suit='Dia')\n",
        "Clb_10 = Card(name='10', suit='Club')\n",
        "\n",
        "Spd_J = Card(name='J', suit='Spade')\n",
        "Hrt_J = Card(name='J', suit='Heart')\n",
        "Dia_J = Card(name='J', suit='Dia')\n",
        "Clb_J = Card(name='J', suit='Club')\n",
        "\n",
        "Spd_Q = Card(name='Q', suit='Spade')\n",
        "Hrt_Q = Card(name='Q', suit='Heart')\n",
        "Dia_Q = Card(name='Q', suit='Dia')\n",
        "Clb_Q = Card(name='Q', suit='Club')\n",
        "\n",
        "Spd_K = Card(name='K', suit='Spade')\n",
        "Hrt_K = Card(name='K', suit='Heart')\n",
        "Dia_K = Card(name='K', suit='Dia')\n",
        "Clb_K = Card(name='K', suit='Club')\n",
        "\n",
        "Spd_A = Card(name='A', suit='Spade')\n",
        "Hrt_A = Card(name='A', suit='Heart')\n",
        "Dia_A = Card(name='A', suit='Dia')\n",
        "Clb_A = Card(name='A', suit='Club')\n",
        "\n",
        "# instantiate 'special' cards\n",
        "\n",
        "Majong = Card(name='Majong', suit='Special')\n",
        "Dragon = Card(name='Dragon', suit='Special')\n",
        "Phoenix = Card(name='Phoenix', suit='Special')\n",
        "Dog = Card(name='Dog', suit='Special')"
      ],
      "execution_count": 2,
      "outputs": []
    },
    {
      "cell_type": "code",
      "metadata": {
        "id": "CcMBvgRIgT7-",
        "colab_type": "code",
        "colab": {}
      },
      "source": [
        "# Test logical operations\n",
        "\n",
        "assert (Spd_A > Hrt_10) == True \n",
        "assert (Clb_J > Dia_K) == False\n",
        "assert (Clb_K >= Hrt_K) == True \n",
        "assert (Dia_Q < Hrt_Q) == False\n",
        "assert (Hrt_2 <= Spd_2) == True \n",
        "assert (Clb_2 == Spd_3) == False\n",
        "assert (Phoenix < Dragon) == True"
      ],
      "execution_count": 3,
      "outputs": []
    },
    {
      "cell_type": "code",
      "metadata": {
        "id": "GOdTcbkIhGbz",
        "colab_type": "code",
        "colab": {}
      },
      "source": [
        "# Test game points of individual cards\n",
        "\n",
        "assert Spd_10.points == 10\n",
        "assert Dia_K.points == 10\n",
        "assert Hrt_5.points == 5\n",
        "assert Dragon.points == 25\n",
        "assert Phoenix.points == -25\n",
        "assert Clb_A.points == 0"
      ],
      "execution_count": 4,
      "outputs": []
    },
    {
      "cell_type": "markdown",
      "metadata": {
        "id": "8YlLR5nqfJZP",
        "colab_type": "text"
      },
      "source": [
        "# Class Cards"
      ]
    },
    {
      "cell_type": "code",
      "metadata": {
        "id": "UaqxrRn1fKW3",
        "colab_type": "code",
        "colab": {}
      },
      "source": [
        "# instantiate some card sets\n",
        "\n",
        "hand_0 = Cards([Spd_10, Hrt_10, Dia_2, Phoenix, Dragon, Clb_K, Dia_J, Dia_J])\n",
        "hand_1 = Cards([Clb_J, Dia_J, Phoenix, Dog])\n",
        "hand_2 = Cards([Clb_J, Dia_J, Phoenix, Dragon])\n",
        "hand_3 = Cards([Clb_J, Clb_10, Spd_K, Hrt_K, Clb_Q, Dia_Q])\n",
        "hand_4 = Cards([Clb_2, Hrt_2, Spd_3, Phoenix, Clb_5, Dia_5, Clb_6, Dia_6])\n",
        "hand_5 = Cards([Clb_2, Phoenix, Spd_4, Clb_4])\n",
        "\n",
        "empty = Cards([])\n",
        "\n",
        "solo_0 = Cards([Spd_A])\n",
        "solo_1 = Cards([Hrt_5])\n",
        "solo_2 = Cards([Dragon])\n",
        "\n",
        "pair_0 = Cards([Spd_J, Dia_J])\n",
        "pair_1 = Cards([Spd_7, Phoenix])\n",
        "\n",
        "triple_0 = Cards([Spd_K, Hrt_K, Dia_K])\n",
        "triple_1 = Cards([Spd_3, Hrt_3, Phoenix])\n",
        "\n",
        "four_0 = Cards([Spd_10, Hrt_10, Dia_10, Clb_10]) # bomb\n",
        "four_1 = Cards([Spd_10, Hrt_10, Dia_10, Phoenix]) # no bomb\n",
        "\n",
        "fh_0 = Cards([Spd_3, Hrt_3, Clb_3, Spd_K, Hrt_K])\n",
        "fh_1 = Cards([Spd_K, Hrt_K, Phoenix, Spd_3, Hrt_3])\n",
        "fh_2 = Cards([Spd_4, Hrt_4, Clb_4, Phoenix, Hrt_K])\n",
        "\n",
        "strt_0 = Cards([Spd_3, Hrt_4, Clb_5, Spd_6, Hrt_7, Clb_8])\n",
        "strt_1 = Cards([Spd_3, Hrt_4, Clb_5, Phoenix, Hrt_7])\n",
        "strt_2 = Cards([Majong, Hrt_2, Clb_3, Phoenix, Hrt_4])\n",
        "strt_3 = Cards([Spd_5, Hrt_2, Clb_3, Phoenix, Hrt_4])\n",
        "strt_4 = Cards([Spd_5, Spd_6, Spd_7, Spd_8, Spd_9]) # straight bomb\n",
        "\n",
        "pair_seq_0 = Cards([Spd_J, Dia_J, Clb_Q, Dia_Q])\n",
        "pair_seq_1 = Cards([Spd_K, Phoenix, Clb_Q, Dia_Q])\n",
        "pair_seq_2 = Cards([Clb_J, Dia_J, Spd_K, Phoenix, Clb_K, Dia_Q])\n",
        "pair_seq_3 = Cards([Clb_J, Dia_J, Spd_K, Phoenix, Clb_Q, Dia_Q])\n",
        "pair_seq_4 = Cards([Clb_J, Phoenix, Spd_K, Hrt_K, Clb_Q, Dia_Q])"
      ],
      "execution_count": 5,
      "outputs": []
    },
    {
      "cell_type": "code",
      "metadata": {
        "id": "WptdsVk3i0Nq",
        "colab_type": "code",
        "colab": {
          "base_uri": "https://localhost:8080/",
          "height": 272
        },
        "outputId": "03cf34e5-0485-4f75-b70a-00cfb9a6789b"
      },
      "source": [
        "# test show function\n",
        "\n",
        "hand_0.show()\n",
        "triple_0.show()\n",
        "strt_0.show()"
      ],
      "execution_count": 6,
      "outputs": [
        {
          "output_type": "stream",
          "text": [
            "┍┄┄┄┑┍┄┄┄┑┍┄┄┄┑┍┄┄┄┑┍┄┄┄┑┍┄┄┄┑┍┄┄┄┑┍┄┄┄┑\n",
            "┆ Ph  ┆┆ 2   ┆┆10   ┆┆10   ┆┆ J   ┆┆ J   ┆┆ K   ┆┆ Dr  ┆\n",
            "┆ oe  ┆┆  ⬧  ┆┆  ♠  ┆┆  ♥  ┆┆  ⬧  ┆┆  ⬧  ┆┆  ♣  ┆┆ ag  ┆\n",
            "┆ nix ┆┆   2 ┆┆   10┆┆   10┆┆   J ┆┆   J ┆┆   K ┆┆ on  ┆\n",
            "┖┄┄┄┚┖┄┄┄┚┖┄┄┄┚┖┄┄┄┚┖┄┄┄┚┖┄┄┄┚┖┄┄┄┚┖┄┄┄┚\n",
            "┍┄┄┄┑┍┄┄┄┑┍┄┄┄┑\n",
            "┆ K   ┆┆ K   ┆┆ K   ┆\n",
            "┆  ♠  ┆┆  ♥  ┆┆  ⬧  ┆\n",
            "┆   K ┆┆   K ┆┆   K ┆\n",
            "┖┄┄┄┚┖┄┄┄┚┖┄┄┄┚\n",
            "┍┄┄┄┑┍┄┄┄┑┍┄┄┄┑┍┄┄┄┑┍┄┄┄┑┍┄┄┄┑\n",
            "┆ 3   ┆┆ 4   ┆┆ 5   ┆┆ 6   ┆┆ 7   ┆┆ 8   ┆\n",
            "┆  ♠  ┆┆  ♥  ┆┆  ♣  ┆┆  ♠  ┆┆  ♥  ┆┆  ♣  ┆\n",
            "┆   3 ┆┆   4 ┆┆   5 ┆┆   6 ┆┆   7 ┆┆   8 ┆\n",
            "┖┄┄┄┚┖┄┄┄┚┖┄┄┄┚┖┄┄┄┚┖┄┄┄┚┖┄┄┄┚\n"
          ],
          "name": "stdout"
        }
      ]
    },
    {
      "cell_type": "code",
      "metadata": {
        "id": "sGHbQ3IsjvzE",
        "colab_type": "code",
        "colab": {}
      },
      "source": [
        "# test card set types\n",
        "\n",
        "assert hand_0.type == 'hand'\n",
        "assert hand_1.type == 'hand'\n",
        "assert hand_2.type == 'hand'\n",
        "assert hand_3.type == 'hand'\n",
        "assert hand_4.type == 'hand'\n",
        "assert hand_5.type == 'hand'\n",
        "assert empty.type == 'pass'\n",
        "assert solo_0.type == 'solo'\n",
        "assert solo_1.type == 'solo'\n",
        "assert solo_2.type == 'solo'\n",
        "assert pair_0.type == 'pair'\n",
        "assert pair_1.type == 'pair'\n",
        "assert triple_0.type == 'triple'\n",
        "assert triple_1.type == 'triple'\n",
        "assert four_0.type == 'four_bomb'\n",
        "assert four_1.type == 'hand'\n",
        "assert fh_0.type == 'full'\n",
        "assert fh_1.type == 'full'\n",
        "assert fh_2.type == 'full'\n",
        "assert strt_0.type == 'straight'\n",
        "assert strt_1.type == 'straight'\n",
        "assert strt_2.type == 'straight'\n",
        "assert strt_3.type == 'straight'\n",
        "assert strt_4.type == 'straight_bomb'\n",
        "assert pair_seq_0.type == 'pair_seq'\n",
        "assert pair_seq_1.type == 'pair_seq'\n",
        "assert pair_seq_2.type == 'pair_seq'\n",
        "assert pair_seq_3.type == 'pair_seq'\n",
        "assert pair_seq_4.type == 'pair_seq'\n",
        "assert Cards([Dragon, Phoenix]).type != 'pair'\n",
        "assert Cards([Spd_A, Clb_K, Dia_J, Clb_Q, Dragon]).type != 'straight'"
      ],
      "execution_count": 6,
      "outputs": []
    },
    {
      "cell_type": "code",
      "metadata": {
        "id": "hHlSJuBvY37l",
        "colab_type": "code",
        "colab": {}
      },
      "source": [
        "# Test logical operations\n",
        "\n",
        "assert (solo_0 > solo_1) == True\n",
        "assert (solo_2 < solo_1) == False\n",
        "assert (solo_0 == solo_0) == True\n",
        "assert (solo_0 >= hand_0) == False\n",
        "assert (pair_0 >= pair_1) == True\n",
        "assert (pair_1 <= triple_0) == False\n",
        "assert (triple_1 <= triple_0) == True\n",
        "assert (four_0 < four_1) == False\n",
        "assert (strt_1 > strt_2) == True\n",
        "assert (strt_0 > strt_1) == False\n",
        "assert (strt_4 > strt_3) == True\n",
        "assert (strt_4 < four_1) == False\n",
        "assert (fh_0 <= fh_1) == True\n",
        "assert (pair_seq_0 == pair_seq_1) == False\n",
        "assert (pair_seq_2 == pair_seq_3) == True\n",
        "assert (pair_seq_0 <= pair_seq_4) == False"
      ],
      "execution_count": 7,
      "outputs": []
    },
    {
      "cell_type": "code",
      "metadata": {
        "id": "Q821zCbMaoYr",
        "colab_type": "code",
        "colab": {}
      },
      "source": [
        "# Test game points of cards\n",
        "\n",
        "assert hand_0.points == 30\n",
        "assert hand_1.points == -25\n",
        "assert hand_4.points == -15\n",
        "assert empty.points == 0\n",
        "assert solo_0.points == 0\n",
        "assert pair_0.points == 0\n",
        "assert triple_0.points == 30\n",
        "assert four_0.points == 40\n",
        "assert fh_1.points == -5\n",
        "assert strt_0.points == 5\n",
        "assert pair_seq_3.points == -15"
      ],
      "execution_count": 8,
      "outputs": []
    },
    {
      "cell_type": "code",
      "metadata": {
        "id": "R22Sh3AAiDM3",
        "colab_type": "code",
        "colab": {}
      },
      "source": [
        "# Test removing cards from card set\n",
        "\n",
        "remove_0 = Cards([Spd_10, Hrt_10, Phoenix, Dragon])\n",
        "assert remove_0.type == 'hand'\n",
        "assert remove_0.size == 4\n",
        "assert remove_0.power == 0\n",
        "assert remove_0.remove(Dragon) == True\n",
        "assert remove_0.type == 'triple'\n",
        "assert remove_0.size == 3\n",
        "assert remove_0.power == 10\n",
        "assert remove_0.remove(Phoenix) == True\n",
        "assert remove_0.type == 'pair'\n",
        "assert remove_0.size == 2\n",
        "assert remove_0.power == 10\n",
        "assert remove_0.remove(Phoenix) == False"
      ],
      "execution_count": 9,
      "outputs": []
    },
    {
      "cell_type": "markdown",
      "metadata": {
        "id": "H6xp8Ikcjbhx",
        "colab_type": "text"
      },
      "source": [
        "# Class Deck"
      ]
    },
    {
      "cell_type": "code",
      "metadata": {
        "id": "AJQ8fTV-jcm6",
        "colab_type": "code",
        "colab": {
          "base_uri": "https://localhost:8080/",
          "height": 377
        },
        "outputId": "50396a3b-e277-4f28-e307-90d64a8629ab"
      },
      "source": [
        "# test instantiating and dealing the deck\n",
        "\n",
        "deck = Deck()\n",
        "player_0, player_1, player_2, player_3 = deck.shuffle_and_deal()\n",
        "player_0.show()\n",
        "player_1.show()\n",
        "player_2.show()\n",
        "player_3.show()"
      ],
      "execution_count": 11,
      "outputs": [
        {
          "output_type": "stream",
          "text": [
            "┍┄┄┄┑┍┄┄┄┑┍┄┄┄┑┍┄┄┄┑┍┄┄┄┑┍┄┄┄┑┍┄┄┄┑┍┄┄┄┑┍┄┄┄┑┍┄┄┄┑┍┄┄┄┑┍┄┄┄┑┍┄┄┄┑┍┄┄┄┑\n",
            "┆ Ph  ┆┆ 3   ┆┆ 5   ┆┆ 5   ┆┆ 6   ┆┆ 6   ┆┆ 7   ┆┆ 8   ┆┆ 8   ┆┆ 9   ┆┆10   ┆┆ J   ┆┆ J   ┆┆ A   ┆\n",
            "┆ oe  ┆┆  ♥  ┆┆  ♣  ┆┆  ⬧  ┆┆  ♣  ┆┆  ⬧  ┆┆  ♠  ┆┆  ♣  ┆┆  ♠  ┆┆  ⬧  ┆┆  ♥  ┆┆  ♥  ┆┆  ♣  ┆┆  ♠  ┆\n",
            "┆ nix ┆┆   3 ┆┆   5 ┆┆   5 ┆┆   6 ┆┆   6 ┆┆   7 ┆┆   8 ┆┆   8 ┆┆   9 ┆┆   10┆┆   J ┆┆   J ┆┆   A ┆\n",
            "┖┄┄┄┚┖┄┄┄┚┖┄┄┄┚┖┄┄┄┚┖┄┄┄┚┖┄┄┄┚┖┄┄┄┚┖┄┄┄┚┖┄┄┄┚┖┄┄┄┚┖┄┄┄┚┖┄┄┄┚┖┄┄┄┚┖┄┄┄┚\n",
            "┍┄┄┄┑┍┄┄┄┑┍┄┄┄┑┍┄┄┄┑┍┄┄┄┑┍┄┄┄┑┍┄┄┄┑┍┄┄┄┑┍┄┄┄┑┍┄┄┄┑┍┄┄┄┑┍┄┄┄┑┍┄┄┄┑┍┄┄┄┑\n",
            "┆ 2   ┆┆ 2   ┆┆ 2   ┆┆ 3   ┆┆ 3   ┆┆ 4   ┆┆ 5   ┆┆ 7   ┆┆10   ┆┆ Q   ┆┆ Q   ┆┆ Q   ┆┆ K   ┆┆ A   ┆\n",
            "┆  ♥  ┆┆  ♣  ┆┆  ♠  ┆┆  ♠  ┆┆  ⬧  ┆┆  ⬧  ┆┆  ♠  ┆┆  ⬧  ┆┆  ♣  ┆┆  ♥  ┆┆  ♠  ┆┆  ♣  ┆┆  ♣  ┆┆  ⬧  ┆\n",
            "┆   2 ┆┆   2 ┆┆   2 ┆┆   3 ┆┆   3 ┆┆   4 ┆┆   5 ┆┆   7 ┆┆   10┆┆   Q ┆┆   Q ┆┆   Q ┆┆   K ┆┆   A ┆\n",
            "┖┄┄┄┚┖┄┄┄┚┖┄┄┄┚┖┄┄┄┚┖┄┄┄┚┖┄┄┄┚┖┄┄┄┚┖┄┄┄┚┖┄┄┄┚┖┄┄┄┚┖┄┄┄┚┖┄┄┄┚┖┄┄┄┚┖┄┄┄┚\n",
            "┍┄┄┄┑┍┄┄┄┑┍┄┄┄┑┍┄┄┄┑┍┄┄┄┑┍┄┄┄┑┍┄┄┄┑┍┄┄┄┑┍┄┄┄┑┍┄┄┄┑┍┄┄┄┑┍┄┄┄┑┍┄┄┄┑┍┄┄┄┑\n",
            "┆     ┆┆ 3   ┆┆ 4   ┆┆ 4   ┆┆ 6   ┆┆ 6   ┆┆ 7   ┆┆ 8   ┆┆ 9   ┆┆10   ┆┆ J   ┆┆ J   ┆┆ K   ┆┆ Dr  ┆\n",
            "┆ Dog ┆┆  ♣  ┆┆  ♣  ┆┆  ♥  ┆┆  ♥  ┆┆  ♠  ┆┆  ♥  ┆┆  ♥  ┆┆  ♠  ┆┆  ♠  ┆┆  ⬧  ┆┆  ♠  ┆┆  ♥  ┆┆ ag  ┆\n",
            "┆     ┆┆   3 ┆┆   4 ┆┆   4 ┆┆   6 ┆┆   6 ┆┆   7 ┆┆   8 ┆┆   9 ┆┆   10┆┆   J ┆┆   J ┆┆   K ┆┆ on  ┆\n",
            "┖┄┄┄┚┖┄┄┄┚┖┄┄┄┚┖┄┄┄┚┖┄┄┄┚┖┄┄┄┚┖┄┄┄┚┖┄┄┄┚┖┄┄┄┚┖┄┄┄┚┖┄┄┄┚┖┄┄┄┚┖┄┄┄┚┖┄┄┄┚\n",
            "┍┄┄┄┑┍┄┄┄┑┍┄┄┄┑┍┄┄┄┑┍┄┄┄┑┍┄┄┄┑┍┄┄┄┑┍┄┄┄┑┍┄┄┄┑┍┄┄┄┑┍┄┄┄┑┍┄┄┄┑┍┄┄┄┑┍┄┄┄┑\n",
            "┆     ┆┆ 2   ┆┆ 4   ┆┆ 5   ┆┆ 7   ┆┆ 8   ┆┆ 9   ┆┆ 9   ┆┆10   ┆┆ Q   ┆┆ K   ┆┆ K   ┆┆ A   ┆┆ A   ┆\n",
            "┆  1  ┆┆  ⬧  ┆┆  ♠  ┆┆  ♥  ┆┆  ♣  ┆┆  ⬧  ┆┆  ♣  ┆┆  ♥  ┆┆  ⬧  ┆┆  ⬧  ┆┆  ⬧  ┆┆  ♠  ┆┆  ♥  ┆┆  ♣  ┆\n",
            "┆     ┆┆   2 ┆┆   4 ┆┆   5 ┆┆   7 ┆┆   8 ┆┆   9 ┆┆   9 ┆┆   10┆┆   Q ┆┆   K ┆┆   K ┆┆   A ┆┆   A ┆\n",
            "┖┄┄┄┚┖┄┄┄┚┖┄┄┄┚┖┄┄┄┚┖┄┄┄┚┖┄┄┄┚┖┄┄┄┚┖┄┄┄┚┖┄┄┄┚┖┄┄┄┚┖┄┄┄┚┖┄┄┄┚┖┄┄┄┚┖┄┄┄┚\n"
          ],
          "name": "stdout"
        }
      ]
    },
    {
      "cell_type": "markdown",
      "metadata": {
        "id": "am2dOA67q1xi",
        "colab_type": "text"
      },
      "source": [
        "# Class Stack"
      ]
    },
    {
      "cell_type": "code",
      "metadata": {
        "id": "6QJwH3wLq3Iv",
        "colab_type": "code",
        "colab": {}
      },
      "source": [
        "stack = Stack()\n",
        "\n",
        "# test adding cards to stack according to game rules\n",
        "assert stack.add(solo_1) == True\n",
        "assert stack.add(pair_0) == False\n",
        "assert stack.add(solo_0) == True\n",
        "assert stack.add(solo_2) == True\n",
        "assert stack.add(solo_1) == False\n",
        "assert stack.add(four_0) == True"
      ],
      "execution_count": 7,
      "outputs": []
    },
    {
      "cell_type": "code",
      "metadata": {
        "id": "9jSvhSzX0d-t",
        "colab_type": "code",
        "colab": {}
      },
      "source": [
        "stack = Stack()\n",
        "\n",
        "fh_0 = Cards([Spd_3, Hrt_3, Clb_3, Spd_K, Hrt_K])\n",
        "fh_1 = Cards([Spd_K, Hrt_K, Clb_K, Spd_3, Hrt_3])\n",
        "fh_2 = Cards([Spd_4, Hrt_4, Clb_4, Phoenix, Hrt_K])\n",
        "bomb_0 = Cards([Spd_5, Clb_5, Hrt_5, Dia_5])\n",
        "\n",
        "# some more tests on class Stack\n",
        "assert stack.add(fh_0) == True\n",
        "assert stack.power == 3\n",
        "assert stack.points == 20\n",
        "assert stack.type == 'full'\n",
        "assert stack.add(fh_2) == True\n",
        "assert stack.power == 4\n",
        "assert stack.points == 5\n",
        "assert stack.add(fh_1) == True\n",
        "assert stack.power == 13\n",
        "assert stack.points == 35\n",
        "assert stack.add(bomb_0) == True\n",
        "assert stack.power == 55\n",
        "assert stack.points == 55\n",
        "assert stack.type == 'four_bomb'\n",
        "assert stack.add(fh_0) == False"
      ],
      "execution_count": 8,
      "outputs": []
    }
  ]
}