{
  "nbformat": 4,
  "nbformat_minor": 0,
  "metadata": {
    "colab": {
      "name": "TrainAgents.ipynb",
      "provenance": [],
      "collapsed_sections": [],
      "authorship_tag": "ABX9TyNCf+pPV2qyrP7bmTTui6WS"
    },
    "kernelspec": {
      "name": "python3",
      "display_name": "Python 3"
    }
  },
  "cells": [
    {
      "cell_type": "markdown",
      "metadata": {
        "id": "1fjkm2DIq0Tr",
        "colab_type": "text"
      },
      "source": [
        "# TichuAgents: Training the Agents\n",
        "\n",
        "This notebook is used for training Agents using Reinforcement Learning to play Tichu."
      ]
    },
    {
      "cell_type": "markdown",
      "metadata": {
        "id": "YrOs1k1rrC_I",
        "colab_type": "text"
      },
      "source": [
        "# Setup"
      ]
    },
    {
      "cell_type": "code",
      "metadata": {
        "id": "Sf0KUdu0qw2O",
        "colab_type": "code",
        "colab": {}
      },
      "source": [
        "# Execute after restarting runtime\n",
        "!git clone https://github.com/alxwdm/tichuagent"
      ],
      "execution_count": null,
      "outputs": []
    },
    {
      "cell_type": "code",
      "metadata": {
        "id": "Gf7HZOaZrFWr",
        "colab_type": "code",
        "colab": {}
      },
      "source": [
        "# Execute when content on github changed\n",
        "%cd /content/tichuagent\n",
        "!git pull\n",
        "%cd /content/"
      ],
      "execution_count": null,
      "outputs": []
    },
    {
      "cell_type": "code",
      "metadata": {
        "id": "HHWZ41PPrF1o",
        "colab_type": "code",
        "colab": {}
      },
      "source": [
        "import sys\n",
        "import numpy as np\n",
        "sys.path.append('/content/tichuagent')\n",
        "# import Environment\n",
        "from env.env import Env\n",
        "# import all Agents\n",
        "from agents.heuristic.greedy import greedyAgent\n",
        "from agents.ddpg.ddpg_agent import DDPGAgent\n",
        "# import utility functions\n",
        "from utils import play_dumb_game, play_greedy_game"
      ],
      "execution_count": null,
      "outputs": []
    },
    {
      "cell_type": "markdown",
      "metadata": {
        "id": "bEkCOuERsE67",
        "colab_type": "text"
      },
      "source": [
        "# Shared utils"
      ]
    },
    {
      "cell_type": "code",
      "metadata": {
        "id": "xfjJAP0SsGTD",
        "colab_type": "code",
        "colab": {}
      },
      "source": [
        "def battle(agents, n_games=1000):\n",
        "    \"\"\" Lets trained agents play games against each other. \"\"\"\n",
        "    pass # TODO"
      ],
      "execution_count": null,
      "outputs": []
    },
    {
      "cell_type": "markdown",
      "metadata": {
        "id": "7TbB0VCcrS1P",
        "colab_type": "text"
      },
      "source": [
        "# DDPG Agent\n",
        "\n",
        "Deep Deterministic Policy Gradient is an off-policy RL approach that combines both value- and policy-based learning. The DDPG actor learns how to act (i.e. policy-based), and a critic learns how to estimate the current situation (i.e. value-based). "
      ]
    },
    {
      "cell_type": "code",
      "metadata": {
        "id": "WI9cMP4nr87n",
        "colab_type": "code",
        "colab": {}
      },
      "source": [
        "# work in progress..."
      ],
      "execution_count": null,
      "outputs": []
    }
  ]
}